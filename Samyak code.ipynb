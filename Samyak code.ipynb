{
 "cells": [
  {
   "cell_type": "code",
   "execution_count": 1,
   "metadata": {},
   "outputs": [],
   "source": [
    "def gettwist():\n",
    "    import math\n",
    "    D = float(input(' D (in m)= '))\n",
    "    L=float(input('L (in m)= '))\n",
    "    T=float(input('T (in Nm)= '))\n",
    "    G=float(input('G (in Gpa)= '))\n",
    "    J = (math.pi * (D**4))/32\n",
    "    theta = (T*L)/(G*J*10**9)\n",
    "    print(\"angle of twist is \" )\n",
    "    print(theta)"
   ]
  },
  {
   "cell_type": "code",
   "execution_count": 2,
   "metadata": {},
   "outputs": [
    {
     "name": "stdout",
     "output_type": "stream",
     "text": [
      " D (in m)= 5\n",
      "L (in m)= 3\n",
      "T (in Nm)= 2\n",
      "G (in Gpa)= 3\n",
      "angle of twist is \n",
      "3.259493234522016e-11\n",
      "Exit? y/n n\n",
      " D (in m)= 2\n",
      "L (in m)= 3\n",
      "T (in Nm)= 2\n",
      "G (in Gpa)= 3\n",
      "angle of twist is \n",
      "1.2732395447351628e-09\n",
      "Exit? y/n 2\n"
     ]
    }
   ],
   "source": [
    "gettwist()\n",
    "v = input('Exit? y/n ')\n",
    "while v == \"n\":\n",
    "    gettwist()\n",
    "    v = input('Exit? y/n ')\n"
   ]
  },
  {
   "cell_type": "code",
   "execution_count": null,
   "metadata": {},
   "outputs": [],
   "source": []
  }
 ],
 "metadata": {
  "kernelspec": {
   "display_name": "Python 3",
   "language": "python",
   "name": "python3"
  },
  "language_info": {
   "codemirror_mode": {
    "name": "ipython",
    "version": 3
   },
   "file_extension": ".py",
   "mimetype": "text/x-python",
   "name": "python",
   "nbconvert_exporter": "python",
   "pygments_lexer": "ipython3",
   "version": "3.8.5"
  }
 },
 "nbformat": 4,
 "nbformat_minor": 4
}
